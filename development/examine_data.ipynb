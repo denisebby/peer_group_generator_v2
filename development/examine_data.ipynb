{
 "cells": [
  {
   "cell_type": "code",
   "execution_count": 1,
   "metadata": {},
   "outputs": [],
   "source": [
    "import pickle"
   ]
  },
  {
   "cell_type": "code",
   "execution_count": 5,
   "metadata": {},
   "outputs": [],
   "source": [
    "def read_history(location)->dict:\n",
    "    \"\"\"\n",
    "    Description:\n",
    "        Read object from pickled object\n",
    "    Args:\n",
    "        location (str): where to read data \n",
    "    Returns: \n",
    "        saved_object (any Python object): an object to save\n",
    "    \"\"\"\n",
    "    with open(location, 'rb') as handle:\n",
    "        saved_object = pickle.load(handle)\n",
    "    handle.close()\n",
    "    return saved_object"
   ]
  },
  {
   "cell_type": "code",
   "execution_count": 12,
   "metadata": {},
   "outputs": [],
   "source": [
    "run_status = read_history(\"../data/run_status.pickle\")\n",
    "history = read_history(\"../data/history.pickle\")"
   ]
  },
  {
   "cell_type": "code",
   "execution_count": 13,
   "metadata": {},
   "outputs": [
    {
     "name": "stdout",
     "output_type": "stream",
     "text": [
      "True\n",
      "{}\n"
     ]
    }
   ],
   "source": [
    "print(run_status)\n",
    "print(history)"
   ]
  }
 ],
 "metadata": {
  "kernelspec": {
   "display_name": "dev1",
   "language": "python",
   "name": "python3"
  },
  "language_info": {
   "codemirror_mode": {
    "name": "ipython",
    "version": 3
   },
   "file_extension": ".py",
   "mimetype": "text/x-python",
   "name": "python",
   "nbconvert_exporter": "python",
   "pygments_lexer": "ipython3",
   "version": "3.8.13"
  },
  "orig_nbformat": 4,
  "vscode": {
   "interpreter": {
    "hash": "b3385324871f6d9570f7620dc92242373aade45234876ddf4712f3af7383fe60"
   }
  }
 },
 "nbformat": 4,
 "nbformat_minor": 2
}
